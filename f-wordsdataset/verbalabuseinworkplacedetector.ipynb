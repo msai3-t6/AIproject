{
 "cells": [
  {
   "cell_type": "code",
   "execution_count": 3,
   "id": "0ea808c5",
   "metadata": {},
   "outputs": [
    {
     "ename": "ModuleNotFoundError",
     "evalue": "No module named 'speech_recognition'",
     "output_type": "error",
     "traceback": [
      "\u001b[1;31m---------------------------------------------------------------------------\u001b[0m",
      "\u001b[1;31mModuleNotFoundError\u001b[0m                       Traceback (most recent call last)",
      "Cell \u001b[1;32mIn[3], line 1\u001b[0m\n\u001b[1;32m----> 1\u001b[0m \u001b[38;5;28;01mimport\u001b[39;00m \u001b[38;5;21;01mspeech_recognition\u001b[39;00m \u001b[38;5;28;01mas\u001b[39;00m \u001b[38;5;21;01msr\u001b[39;00m\n\u001b[0;32m      2\u001b[0m r \u001b[38;5;241m=\u001b[39m sr\u001b[38;5;241m.\u001b[39mRecognizer()\n\u001b[0;32m      3\u001b[0m \u001b[38;5;66;03m# with sr.Microphone() as source:\u001b[39;00m\n\u001b[0;32m      4\u001b[0m \u001b[38;5;66;03m#    print(\"듣고 있어요\")\u001b[39;00m\n\u001b[0;32m      5\u001b[0m \u001b[38;5;66;03m#    audio = r.listen(source, timeout=5) # 마이크로 부터 음성 듣기\u001b[39;00m\n\u001b[0;32m      6\u001b[0m \n\u001b[0;32m      7\u001b[0m \u001b[38;5;66;03m# 파일로부터 음성 불러오기(wav, aiff/aiff-c, flac 가능, mp3는 불가)    \u001b[39;00m\n",
      "\u001b[1;31mModuleNotFoundError\u001b[0m: No module named 'speech_recognition'"
     ]
    }
   ],
   "source": [
    "import speech_recognition as sr\n",
    "r = sr.Recognizer()\n",
    "# with sr.Microphone() as source:\n",
    "#    print(\"듣고 있어요\")\n",
    "#    audio = r.listen(source, timeout=5) # 마이크로 부터 음성 듣기\n",
    "\n",
    "# 파일로부터 음성 불러오기(wav, aiff/aiff-c, flac 가능, mp3는 불가)    \n",
    "with sr.AudioFile(\"C://Users//labadmin//Downloads//f-wordsdataset//욕모음_차현준//GSG 단어//GSG 단어 01.wav\") as source:\n",
    "    audio = r.listen(source)\n",
    "    print(\"듣고 있어요\")\n",
    "\n",
    "try:\n",
    "    # 구글 API로 인식(하루 50회)\n",
    "    text = r.recognize_google(audio, language='ko')\n",
    "    print(text)\n",
    "    \n",
    "except sr.UnknownValueError:\n",
    "    print(\"인식 실패\") # 음성 인식 실패한 경우\n",
    "except sr.RequestError: \n",
    "    print(\"요청 실패 : {0}\".format(e)) # API Key 오류, 네트워크 단절 등"
   ]
  },
  {
   "cell_type": "code",
   "execution_count": null,
   "id": "49a3b0cf",
   "metadata": {},
   "outputs": [],
   "source": []
  }
 ],
 "metadata": {
  "kernelspec": {
   "display_name": "Python 3 (ipykernel)",
   "language": "python",
   "name": "python3"
  },
  "language_info": {
   "codemirror_mode": {
    "name": "ipython",
    "version": 3
   },
   "file_extension": ".py",
   "mimetype": "text/x-python",
   "name": "python",
   "nbconvert_exporter": "python",
   "pygments_lexer": "ipython3",
   "version": "3.8.16"
  }
 },
 "nbformat": 4,
 "nbformat_minor": 5
}
